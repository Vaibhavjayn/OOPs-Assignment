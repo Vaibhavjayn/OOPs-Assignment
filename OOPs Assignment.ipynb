{
 "cells": [
  {
   "cell_type": "markdown",
   "id": "1ea6ba9d",
   "metadata": {},
   "source": [
    "Q1. What is Object-Oriented Programming (OOP)?\n",
    "Ans. OOPs stands for  OBJECT ORIENTED PROGRAMMING in Python where we learn about the concept of class and objects usage in python and also it consists main four concepts like, \n",
    "(i) INHERITANCE\n",
    "(ii) ABSTRACTION\n",
    "(iii) POLYMORPHISM\n",
    "(iv) ENCAPSULATION\n",
    "Here, we learn how to implement these all concepts with help of class in python and also use Functions as named methods under class and how we can specify under in any class according to required operation."
   ]
  },
  {
   "cell_type": "markdown",
   "id": "14a2d7be",
   "metadata": {},
   "source": [
    "Q2. What is a class in OOP?\n",
    "Ans. class in OOPs is the concept of defining a class with use \"class\" keyword already defined in python or we can say a built-in keyword where we perform and define such functions(methods in class) and also specify attributes or data in it to be used to fully develop a class structure. It is a vital block which is helpful in usage of same code further again in any other class or code in same program i.e it is a reusable code that is not necessarily required to be built from start we just need to call it with different instances to perform certain tasks that are specified under the class."
   ]
  },
  {
   "cell_type": "markdown",
   "id": "5b3c1172",
   "metadata": {},
   "source": [
    "Q3. What is an object in OOP?\n",
    "Ans. Object is an instance of class that is used to call the methods of the class and can helpful in accessing the attributes or any values of the class, here object of any class can be multiple i.e each object of class will carry unique values and will do perform same methods of their class with their unique attribute values to get desired or asked results."
   ]
  },
  {
   "cell_type": "markdown",
   "id": "936488df",
   "metadata": {},
   "source": [
    "Q4. What is the difference between abstraction and encapsulation?\n",
    "Ans. Abstraction is used to make our class abstract i.e if we are not willing to show or define the working of our class then we can hide its working on background and can show the main important or required information . As to achieve abstraction we use, \" @abstractmethod \" before each and every method defined in the class which we want to get abstracted, also the abstract methods of class can't be given any return statement inside them and also their will be no instance or object can be created for abstract class, thus we can inherit only the class but no object can be created for that class.\n",
    " Whereas, Encapsulation means binding with the class i.e the attributes or data values we specified under the __init__ method of class will be binded with their usage to the class only, they can't be accessed or used by any other class. Therefore, \n",
    " Encapsulation is done by :- (i) Public , (ii) Private (__) and (iii) Protected (_) where private is used to make sure no such information can be accessed by anyone and can't be changed directly by any other third party."
   ]
  },
  {
   "cell_type": "markdown",
   "id": "2dad95a1",
   "metadata": {},
   "source": [
    "Q5. What are dunder methods in Python?\n",
    "Ans. Dunder methods in Python are also called as Magic methods or Special methods under which we mainly knew and use most the \n",
    "__init__ method which is also refered to initialize the attributes of class in starting, hence this helps to already define what numbers of parameters or arguments we are having and where they will be stored , this is the method which will be called automatically when any object of class will be created. Another method is __new__ method which shows the or can be understood as class method and consist cls in its paranthesis and when both __init__ and __new__ method is defined in any class then the __new__ method will be called only and no __init__ method will run. Also there is more such methods like __add__ , specifically when there is any method in  __(method name)__ , this format then it shows that the method is dunder method and these methods are not required to call as they are automatically called while creation of an object of the class."
   ]
  },
  {
   "cell_type": "markdown",
   "id": "71ad7017",
   "metadata": {},
   "source": [
    "Q6. Explain the concept of inheritance in OOP.\n",
    "Ans. Inheritance in Python is as simple by its name, we can understand easily that the attributes, properties and methods that are already in base or parent class can be accessed by their child class too only if they are inheriting their parent class, the inheritance is as simple as in our normal life where we can simply understand it as that the properties of parent class are accessible to child class but the property of child class can't be accessed or inherited by parent class. This helps in reducing line of codes and we can simply use already defined property of a class in other class by simply calling it after inheritance of the class. Inheritance in Python is achieved by five ways:-\n",
    "1. Single Level Inheritance\n",
    "2. Multi-Level Inheritance\n",
    "3. Multiple Inheritance\n",
    "4. Hierarchical Inheritance\n",
    "5. Hybrid Inheritance"
   ]
  },
  {
   "cell_type": "markdown",
   "id": "726c0235",
   "metadata": {},
   "source": [
    "Q7. What is polymorphism in OOP?\n",
    "Ans. Poly means many and morphism means forms/states, it refers to an object taking several forms depending on the methods/data. Polymorphism in OOPs takes place in two ways :-\n",
    "(i) Method Overloading\n",
    "(ii) Method Overriding\n",
    "Here, In Python, Method overloading is not supported in its true manner as it is not done by taking different values or arguments with same method name and it will not run in Python like this manner, Here in python we can achieve this by using Default Arguments and Variable Length Arguments easily but not completely in true sense.\n",
    "Also Method overloading can be done within the same class whereas method overriding is done between 2 or more classes. Here, we can easily do method overriding process as in inheritance when we define method name of parent and child class as by same name then the child class is so powerful that it can easily override the parent method and can return output according to its own."
   ]
  },
  {
   "cell_type": "markdown",
   "id": "b13c4525",
   "metadata": {},
   "source": [
    "Q8. How is encapsulation achieved in Python?\n",
    "Ans. Encapsulation means hiding something, or bundling of data and methods of a class. Encapsulation is done in order to make our any sensitive information attribute safe or the data, methods we want to make non sharable or accessible for others is done by performing encapsulation. \n",
    "Here, Encapsulation is done using three ways:-\n",
    "1. Public: - Traditional and easy way as it is by default implemented and all simple data and methods are accessible to other classes to.\n",
    "2. Private: - This is the method to save our information or data of class only accessible by its own class only and no other third person can access or modify information in it, they are only accessed under their own class means if any class inheriting the class with private methods and attributes still not able to see or use the attributes or data of their base(parent) class. This make our highly sensitive information safer and unchangeable. Here put double underscore, __ before the attribure or method you want to make private.\n",
    "3. Protected: - This is also the method used to protect our methods and variables of class but they can be accessed within the both class and in its subclass, here we use single underscore, _ before the method or variable(attribute) we want to make protected.  "
   ]
  },
  {
   "cell_type": "markdown",
   "id": "f9658da5",
   "metadata": {},
   "source": [
    "Q9. What is a constructor in Python?\n",
    "Ans. Constructor in Python is used to construct i.e to initialize the data of class initially in the class with the help of __init__ method that make each and every attribute or any argument to be passed in method later declared that what it will be called as and where it will be stored or assigned under class, to use in the other all methods of class and also the __init__ method is always called when the object of its class created means when we need to enter any value of argument we just need to create object of the class and then simply pass the values of all given number of specified parameters or arguments of class."
   ]
  },
  {
   "cell_type": "markdown",
   "id": "fa3f0c33",
   "metadata": {},
   "source": [
    "Q10. What are class and static methods in Python?\n",
    "Ans. Class methods in Python are those methods that are bound to the class, it can access/modify methods and attributes associated to the class across all the instances. These methods are defind using @classmethod decorator. Instead of self, we will directly use cls as first parameter. Also classmethod can be called directly without creating any instance, and they also used to override __init__ method's value or attributes. \n",
    "Whereas, Static methods are those methods that behaves like a simple method which can be simply called using classname with method name and here also, not required to make any instance of class to call the methods defined in class. They do not required to use self or cls."
   ]
  },
  {
   "cell_type": "code",
   "execution_count": 3,
   "id": "f9d87459",
   "metadata": {},
   "outputs": [],
   "source": [
    "class student:        #class methods example\n",
    "    def __init__(self,name):\n",
    "        self.name = name\n",
    "        \n",
    "    @classmethod\n",
    "    def student_details(cls,name1):\n",
    "        return cls(name1)"
   ]
  },
  {
   "cell_type": "code",
   "execution_count": 4,
   "id": "28985140",
   "metadata": {},
   "outputs": [],
   "source": [
    "stud = student(\"Ajay\")"
   ]
  },
  {
   "cell_type": "code",
   "execution_count": 5,
   "id": "52c988ba",
   "metadata": {},
   "outputs": [
    {
     "data": {
      "text/plain": [
       "'Ajay'"
      ]
     },
     "execution_count": 5,
     "metadata": {},
     "output_type": "execute_result"
    }
   ],
   "source": [
    "stud.name"
   ]
  },
  {
   "cell_type": "code",
   "execution_count": 99,
   "id": "dc8f20f9",
   "metadata": {},
   "outputs": [
    {
     "data": {
      "text/plain": [
       "<__main__.student at 0x25ee33374f0>"
      ]
     },
     "execution_count": 99,
     "metadata": {},
     "output_type": "execute_result"
    }
   ],
   "source": [
    "student.student_details(\"Bijay\")"
   ]
  },
  {
   "cell_type": "code",
   "execution_count": 100,
   "id": "58a74e4b",
   "metadata": {},
   "outputs": [
    {
     "data": {
      "text/plain": [
       "'Bijay'"
      ]
     },
     "execution_count": 100,
     "metadata": {},
     "output_type": "execute_result"
    }
   ],
   "source": [
    "stud.name"
   ]
  },
  {
   "cell_type": "code",
   "execution_count": 90,
   "id": "236c1cc4",
   "metadata": {},
   "outputs": [],
   "source": [
    "class Math:         #Static methods example\n",
    "    @staticmethod\n",
    "    def add(x,y):\n",
    "        return x+y\n",
    "    @staticmethod\n",
    "    def subtract(x,y):\n",
    "        return x-y\n",
    "        "
   ]
  },
  {
   "cell_type": "code",
   "execution_count": 101,
   "id": "49df6cf5",
   "metadata": {},
   "outputs": [
    {
     "data": {
      "text/plain": [
       "11"
      ]
     },
     "execution_count": 101,
     "metadata": {},
     "output_type": "execute_result"
    }
   ],
   "source": [
    "Math.add(5,6)"
   ]
  },
  {
   "cell_type": "code",
   "execution_count": 102,
   "id": "bed844e1",
   "metadata": {},
   "outputs": [
    {
     "data": {
      "text/plain": [
       "23"
      ]
     },
     "execution_count": 102,
     "metadata": {},
     "output_type": "execute_result"
    }
   ],
   "source": [
    "Math.subtract(88,65)"
   ]
  },
  {
   "cell_type": "markdown",
   "id": "ba3a6c38",
   "metadata": {},
   "source": [
    "Q11. What is method overloading in Python?\n",
    "Ans. Method overloading in Python is not done in its true way but eventually we can do it using Default arguments and Position arguments. Method Overloading comes under concept of Polymorphism and also method overloading can be done within a same class. Here is the example to understand how method overloading can be achieved in Python."
   ]
  },
  {
   "cell_type": "code",
   "execution_count": 167,
   "id": "3d65a0fe",
   "metadata": {},
   "outputs": [],
   "source": [
    "# Method Overloading example in Python\n",
    "class Student:\n",
    "    def student(self,name =\"\",course=\"\"):\n",
    "        print(\"Welcome to coursera class\",name,course)"
   ]
  },
  {
   "cell_type": "code",
   "execution_count": 168,
   "id": "ab505f5a",
   "metadata": {},
   "outputs": [],
   "source": [
    "stud = Student()"
   ]
  },
  {
   "cell_type": "code",
   "execution_count": 169,
   "id": "26d39f5c",
   "metadata": {},
   "outputs": [
    {
     "name": "stdout",
     "output_type": "stream",
     "text": [
      "Welcome to coursera class  \n"
     ]
    }
   ],
   "source": [
    "stud.student()"
   ]
  },
  {
   "cell_type": "code",
   "execution_count": 170,
   "id": "f4b24275",
   "metadata": {},
   "outputs": [
    {
     "name": "stdout",
     "output_type": "stream",
     "text": [
      "Welcome to coursera class Rohit \n"
     ]
    }
   ],
   "source": [
    "stud.student(\"Rohit\")"
   ]
  },
  {
   "cell_type": "code",
   "execution_count": 172,
   "id": "95fb90fb",
   "metadata": {},
   "outputs": [
    {
     "name": "stdout",
     "output_type": "stream",
     "text": [
      "Welcome to coursera class Rohit Data Analytics\n"
     ]
    }
   ],
   "source": [
    "stud.student(\"Rohit\",\"Data Analytics\")"
   ]
  },
  {
   "cell_type": "markdown",
   "id": "b1e9ed5a",
   "metadata": {},
   "source": [
    "Q12. What is method overriding in OOP?\n",
    "Ans. Method overriding in OOPs are the other aspect in Polymorphism in OOPs , where this is done between multiple classes and it needs inheritance to do so, in this the method in parent class and child class is of same signature i.e. with same name and here the child class method will be executed as it became powerful than parent class that means it will override the parent class method. Example as follows:-"
   ]
  },
  {
   "cell_type": "code",
   "execution_count": 173,
   "id": "eb69e309",
   "metadata": {},
   "outputs": [],
   "source": [
    "# Method Overriding example\n",
    "class Animal:\n",
    "    def sound(self):\n",
    "        print(\"Animal sound\")\n",
    "class Cat(Animal):\n",
    "    def sound(self):\n",
    "        print(\"Cat meows\")"
   ]
  },
  {
   "cell_type": "code",
   "execution_count": 174,
   "id": "a07446ea",
   "metadata": {},
   "outputs": [
    {
     "name": "stdout",
     "output_type": "stream",
     "text": [
      "Animal sound\n"
     ]
    }
   ],
   "source": [
    "# Now making instances of both classes to show how it works\n",
    "anm = Animal()\n",
    "anm.sound()"
   ]
  },
  {
   "cell_type": "code",
   "execution_count": 175,
   "id": "0d01a6f5",
   "metadata": {},
   "outputs": [
    {
     "name": "stdout",
     "output_type": "stream",
     "text": [
      "Cat meows\n"
     ]
    }
   ],
   "source": [
    "cat = Cat()\n",
    "cat.sound()"
   ]
  },
  {
   "cell_type": "markdown",
   "id": "ca602c11",
   "metadata": {},
   "source": [
    "Q13. What is a property decorator in Python?\n",
    "Ans. Property decorator in python helps in making or allows to access method as a attribute. It makes method to behave like normal attribute of class while calling it. It is done with using \"@property\" decorator."
   ]
  },
  {
   "cell_type": "code",
   "execution_count": 176,
   "id": "8a2d257d",
   "metadata": {},
   "outputs": [],
   "source": [
    "#Example\n",
    "class Circle:\n",
    "    def __init__(self,radius):\n",
    "        self.radius=radius\n",
    "        \n",
    "    @property\n",
    "    def area(self):\n",
    "        radius = self.radius\n",
    "        return 3.14*radius**2"
   ]
  },
  {
   "cell_type": "code",
   "execution_count": 181,
   "id": "15a03556",
   "metadata": {},
   "outputs": [],
   "source": [
    "obj = Circle(5)"
   ]
  },
  {
   "cell_type": "code",
   "execution_count": 182,
   "id": "ab6ad352",
   "metadata": {},
   "outputs": [
    {
     "data": {
      "text/plain": [
       "5"
      ]
     },
     "execution_count": 182,
     "metadata": {},
     "output_type": "execute_result"
    }
   ],
   "source": [
    "obj.radius  #accessing simple data attribute"
   ]
  },
  {
   "cell_type": "code",
   "execution_count": 183,
   "id": "9df66cc9",
   "metadata": {},
   "outputs": [
    {
     "data": {
      "text/plain": [
       "78.5"
      ]
     },
     "execution_count": 183,
     "metadata": {},
     "output_type": "execute_result"
    }
   ],
   "source": [
    "obj.area    # here accessing defined method as attribute by using property decorator"
   ]
  },
  {
   "cell_type": "markdown",
   "id": "440c44cf",
   "metadata": {},
   "source": [
    "Q14.  Why is polymorphism important in OOP?\n",
    "Ans. Polymorphism is a concept of OOPs where it simply means \"Poly\" i.e many and \"Morph\" means states/forms. It refers to an object taking several forms depending on the methods or data. This consists two main concepts that are \"Method Overloading\", which is not done in python in its true form but can be done using default and variable length arguments. Whereas other concept is \"Method Overriding\", which is done by using inheritance as it is done within multiple classes where method in each class is named as same in parent class and then we perform overriding on it. "
   ]
  },
  {
   "cell_type": "code",
   "execution_count": 184,
   "id": "1880474f",
   "metadata": {},
   "outputs": [
    {
     "name": "stdout",
     "output_type": "stream",
     "text": [
      "Woof!\n",
      "Meow!\n",
      "Generic sound of animal\n"
     ]
    }
   ],
   "source": [
    "# Example of Polymorphism \n",
    "class Animal:\n",
    "    def speak(self):\n",
    "        return \"Generic sound of animal\"\n",
    "class Dog(Animal):\n",
    "    def speak(self):\n",
    "        return \"Woof!\"\n",
    "class Cat(Animal):\n",
    "    def speak(self):\n",
    "        return \"Meow!\"\n",
    "animals = [Dog(),Cat(),Animal()]\n",
    "for animal in animals:\n",
    "    print(animal.speak())"
   ]
  },
  {
   "cell_type": "markdown",
   "id": "817ac2eb",
   "metadata": {},
   "source": [
    "Q15. What is an abstract class in Python?\n",
    "Ans. Abstract class is a class that can not be instantiated directly and is designed to be subclassed by other classes. It serves as a blueprint, defining methods that subclasses must implement. Abstract classes are created using the \"abc\" module i.e Abstract Base Classes. They can contain abstract methods which are declared but can't be implemented in the abstract class. Subclasses or child classes are then required to provide implementations for these abstract methods. Abstract class is also useful in hiding complex implimentation, hiding unnecessary details and exposing only required that's why these classes can't be instantiated.  "
   ]
  },
  {
   "cell_type": "markdown",
   "id": "cf5a27e8",
   "metadata": {},
   "source": [
    "Q16. What are the advantages of OOP?\n",
    "Ans. OOPs are the concept of using classes and objects. Where \"objects\" are useful to create different instances of a single class so that we can implement method inside class again and again with different input data, i.e it helps in reusability of code as we are not required to write the logic again and again for the same program, we are just needed to specify our class which can be understood as to consist one or more methods to be performed with initialized data or attributes. We can encapsulate data and methods i.e bundling them within a class, hiding internal implementation details and protecting data from unauthorized access. Also there we perform other tasks like Inheritance, Polymorphism and Abstraction. "
   ]
  },
  {
   "cell_type": "markdown",
   "id": "12c13e1a",
   "metadata": {},
   "source": [
    "Q17. What is the difference between a class variable and an instance variable?\n",
    "Ans. Class Variable and instance variable both are different as class variable is the variable that can be shared between class and its subclasses. where, instance variable cannot be shared between classes, they only belong to one specific class. Class Variables can be accessed by calling with the class name whereas Instance variable can be accessed directly by calling variable names inside the class. Class variables are declared using the Keyword \"Static\" but in instance variable they are declared without using the \"static\" Keyword."
   ]
  },
  {
   "cell_type": "markdown",
   "id": "95a40a03",
   "metadata": {},
   "source": [
    "Q18. What is multiple inheritance in Python?\n",
    "Ans. Multiple Inheritance in Python indicates the inheritance of property/data/attributes and methods by child class from multiple parent class. i.e there is only one child class who inherits and there are multiple parents(ideally two parents) from whom it is inheriting their methods. "
   ]
  },
  {
   "cell_type": "code",
   "execution_count": 186,
   "id": "fdb189c4",
   "metadata": {},
   "outputs": [],
   "source": [
    "# Example of Multiple Inheritance \n",
    "class Parentclass1:\n",
    "    def method1(self):\n",
    "        print(\"This is method of 1st Parent\")\n",
    "\n",
    "class Parentclass2:\n",
    "    def method2(self):\n",
    "        print(\"This is method of 2nd Parent\")\n",
    "    \n",
    "class ChildClass(Parentclass1,Parentclass2):   # Inheriting both parent classes \n",
    "    def method(self):\n",
    "        print(\"This is method of child\")"
   ]
  },
  {
   "cell_type": "code",
   "execution_count": 187,
   "id": "2704c290",
   "metadata": {},
   "outputs": [
    {
     "name": "stdout",
     "output_type": "stream",
     "text": [
      "This is method of child\n",
      "This is method of 1st Parent\n",
      "This is method of 2nd Parent\n"
     ]
    }
   ],
   "source": [
    "c = ChildClass()  # Object of child class only\n",
    "c.method()\n",
    "c.method1()\n",
    "c.method2()"
   ]
  },
  {
   "cell_type": "markdown",
   "id": "ca12c6cb",
   "metadata": {},
   "source": [
    "Q19. Explain the purpose of ‘__str__’ and ‘__repr__’ methods in Python.\n",
    "Ans. __str__(self)\n",
    "Purpose: Defines the human-readable (informal) string representation of an object.\n",
    "\n",
    "Used when?\n",
    "When you call str(obj)\n",
    "When you do print(obj)\n",
    "\n",
    "Goal: Give a nice, user-friendly description.\n",
    "\n",
    "__repr__(self)\n",
    "Purpose: Defines the official string representation of an object (used for debugging and developers).\n",
    "\n",
    "Used when?\n",
    "When you call repr(obj)\n",
    "When you inspect an object directly in the console\n",
    "\n",
    "When __str__ is not defined, __repr__ is the fallback for print(obj)\n",
    "\n",
    "Goal: Return a string that could recreate the object or give a precise internal view."
   ]
  },
  {
   "cell_type": "markdown",
   "id": "fd6309f3",
   "metadata": {},
   "source": [
    "Q20. What is the significance of the ‘super()’ function in Python?\n",
    "Ans. super() function helps in accessing the data attributes of super class i.e base class or parent class in the child class as with super() we can directly access any attribute or data initialized in the parent class to the child class easily. Also similarly, it works for calling any method of parent class as super() returns a proxy object that represents the parent class. It allows you to call methods from a superclass without explicitly naming it."
   ]
  },
  {
   "cell_type": "code",
   "execution_count": 188,
   "id": "fc5bb783",
   "metadata": {},
   "outputs": [
    {
     "name": "stdout",
     "output_type": "stream",
     "text": [
      "Animal speaks\n",
      "Dog barks\n"
     ]
    }
   ],
   "source": [
    "# Example of super()\n",
    "class Animal:\n",
    "    def speak(self):\n",
    "        print(\"Animal speaks\")\n",
    "\n",
    "class Dog(Animal):\n",
    "    def speak(self):\n",
    "        super().speak()  # Call the parent class method\n",
    "        print(\"Dog barks\")\n",
    "\n",
    "d = Dog()\n",
    "d.speak()\n"
   ]
  },
  {
   "cell_type": "markdown",
   "id": "8e5b9acf",
   "metadata": {},
   "source": [
    "Q21. What is the significance of the __del__ method in Python?\n",
    "Ans. The __del__ method in Python is known as the destructor method. It’s called automatically when an object is about to be destroyed, typically when there are no more references to it.\n",
    "Common use cases:\n",
    "*Closing files or network connections\n",
    "*Releasing external resources\n",
    "*Logging object destruction for debugging"
   ]
  },
  {
   "cell_type": "code",
   "execution_count": 189,
   "id": "51a8c259",
   "metadata": {},
   "outputs": [
    {
     "name": "stdout",
     "output_type": "stream",
     "text": [
      "File opened\n",
      "Destructor called\n",
      "File closed\n"
     ]
    }
   ],
   "source": [
    "# Example of __del__ method\n",
    "class FileHandler:\n",
    "    def __init__(self, filename):\n",
    "        self.file = open(filename, 'w')\n",
    "        print(\"File opened\")\n",
    "\n",
    "    def __del__(self):\n",
    "        print(\"Destructor called\")\n",
    "        self.file.close()\n",
    "        print(\"File closed\")\n",
    "\n",
    "f = FileHandler(\"sample.txt\")\n",
    "del f"
   ]
  },
  {
   "cell_type": "markdown",
   "id": "b90cac85",
   "metadata": {},
   "source": [
    "Q22. What is the difference between @staticmethod and @classmethod in Python?\n",
    "Ans. @staticmethod are simply understood as simple methods which do not require any instance or depend on any class instance to get called. It can be called directly by using class name with method name , this behaves like a plin function that only belongs to class, it doesn't either take self or cls. \n",
    "Whereas, @classmethod is that method that refers to the method that is belongs to class only and also they do not require any instance to be used for their calling, they can be just simply called with class name and then the class method name. Also, they use cls in place of self that means that they are refering to the class itself."
   ]
  },
  {
   "cell_type": "markdown",
   "id": "4937a4c9",
   "metadata": {},
   "source": [
    "Q23.  How does polymorphism work in Python with inheritance?\n",
    "Ans. Polymorphism means \"many forms.\" In Python, it refers to the ability to use a single interface (like a method or function name) to represent different underlying forms (data types or classes).Polymorphism is a core concept in object-oriented programming, and in Python, it works very naturally — especially when using inheritance.It works on Method Overriding with using Inheritance. "
   ]
  },
  {
   "cell_type": "code",
   "execution_count": 190,
   "id": "67651b0a",
   "metadata": {},
   "outputs": [
    {
     "name": "stdout",
     "output_type": "stream",
     "text": [
      "Dog barks\n",
      "Cat meows\n",
      "Animal speaks\n"
     ]
    }
   ],
   "source": [
    "# Example\n",
    "class Animal:\n",
    "    def speak(self):\n",
    "        return \"Animal speaks\"\n",
    "\n",
    "class Dog(Animal):\n",
    "    def speak(self):\n",
    "        return \"Dog barks\"\n",
    "\n",
    "class Cat(Animal):\n",
    "    def speak(self):\n",
    "        return \"Cat meows\"\n",
    "    \n",
    "animals = [Dog(), Cat(), Animal()]\n",
    "\n",
    "for a in animals:\n",
    "    print(a.speak())  # Polymorphic behavior\n"
   ]
  },
  {
   "cell_type": "markdown",
   "id": "6f0a3496",
   "metadata": {},
   "source": [
    "Q24. What is method chaining in Python OOP?\n",
    "Ans. Method chaining is a programming style where multiple method calls are made on the same object in a single line, by having each method return self (i.e., the current instance).\n",
    "Why return self?\n",
    "Because returning self lets the next method in the chain be called on the same object."
   ]
  },
  {
   "cell_type": "code",
   "execution_count": 202,
   "id": "5090c9e6",
   "metadata": {},
   "outputs": [
    {
     "name": "stdout",
     "output_type": "stream",
     "text": [
      "Alice, 25 years old, lives in New York\n"
     ]
    }
   ],
   "source": [
    "# Example\n",
    "class Person:\n",
    "    def __init__(self, name):\n",
    "        self.name = name\n",
    "        self.age = None\n",
    "        self.city = None\n",
    "\n",
    "    def set_age(self, age):\n",
    "        self.age = age\n",
    "        return self  # allows chaining\n",
    "\n",
    "    def set_city(self, city):\n",
    "        self.city = city\n",
    "        return self  # allows chaining\n",
    "\n",
    "    def display(self):\n",
    "        print(f\"{self.name}, {self.age} years old, lives in {self.city}\")\n",
    "        return self  # optional\n",
    "\n",
    "# Method chaining:\n",
    "person = Person(\"Alice\").set_age(25).set_city(\"New York\").display()\n"
   ]
  },
  {
   "cell_type": "markdown",
   "id": "bcac14c7",
   "metadata": {},
   "source": [
    "Q25. What is the purpose of the __call__ method in Python?\n",
    "Ans. The __call__ method in Python lets an instance of a class behave like a function — meaning you can \"call\" the object as if it were a function.\n",
    " Purpose of __call__:\n",
    "*Makes an object callable like a regular function.\n",
    "*Allows you to encapsulate behavior within an object that can be triggered just by calling it.\n",
    "*Useful for function wrappers, custom logic execution, or configuration classes."
   ]
  },
  {
   "cell_type": "code",
   "execution_count": 203,
   "id": "d0d3c0b7",
   "metadata": {},
   "outputs": [
    {
     "name": "stdout",
     "output_type": "stream",
     "text": [
      "Hello, Alice!\n"
     ]
    }
   ],
   "source": [
    "# Example\n",
    "class Greeter:\n",
    "    def __init__(self, name):\n",
    "        self.name = name\n",
    "\n",
    "    def __call__(self):\n",
    "        print(f\"Hello, {self.name}!\")\n",
    "\n",
    "g = Greeter(\"Alice\")\n",
    "g()  # Acts like a function"
   ]
  },
  {
   "cell_type": "markdown",
   "id": "79d9905c",
   "metadata": {},
   "source": [
    "## PRACTICAL QUESTIONS"
   ]
  },
  {
   "cell_type": "code",
   "execution_count": 205,
   "id": "add4eb0b",
   "metadata": {},
   "outputs": [
    {
     "name": "stdout",
     "output_type": "stream",
     "text": [
      "Generic message\n",
      "Bark!\n"
     ]
    }
   ],
   "source": [
    "# Q1. Create a parent class Animal with a method speak() that prints a generic message. Create a child class Dog\n",
    "# that overrides the speak() method to print \"Bark!\".\n",
    "\n",
    "class Animal:\n",
    "    def speak(self):\n",
    "        print(\"Generic message\")\n",
    "        \n",
    "class Dog(Animal):\n",
    "    def speak(self):\n",
    "        print(\"Bark!\")\n",
    "\n",
    "a = Animal()\n",
    "a.speak()\n",
    "d = Dog()\n",
    "d.speak()"
   ]
  },
  {
   "cell_type": "code",
   "execution_count": 26,
   "id": "f6c2d5fc",
   "metadata": {},
   "outputs": [
    {
     "data": {
      "text/plain": [
       "'3.14*radius**2'"
      ]
     },
     "execution_count": 26,
     "metadata": {},
     "output_type": "execute_result"
    }
   ],
   "source": [
    "# Q2. Write a program to create an abstract class Shape with a method area(). Derive classes Circle and Rectangle\n",
    "# from it and implement the area() method in both.\n",
    "import abc\n",
    "class Shape:\n",
    "    @abc.abstractmethod\n",
    "    def area(self):\n",
    "        pass\n",
    "    \n",
    "class Circle(Shape):\n",
    "    def area(self):\n",
    "        return \"3.14*radius**2\"\n",
    "    \n",
    "class Rectangle(Shape):\n",
    "    def area(self):\n",
    "        return \"l*b\"\n",
    "    \n",
    "c = Circle()\n",
    "c.area()"
   ]
  },
  {
   "cell_type": "code",
   "execution_count": 27,
   "id": "eed7504c",
   "metadata": {},
   "outputs": [
    {
     "data": {
      "text/plain": [
       "'l*b'"
      ]
     },
     "execution_count": 27,
     "metadata": {},
     "output_type": "execute_result"
    }
   ],
   "source": [
    "r = Rectangle()\n",
    "r.area()"
   ]
  },
  {
   "cell_type": "code",
   "execution_count": 77,
   "id": "143fb0f4",
   "metadata": {},
   "outputs": [
    {
     "name": "stdout",
     "output_type": "stream",
     "text": [
      "Vehicle Type: Four Wheeler\n",
      "Brand: Tesla\n",
      "Battery Capacity: 75 kWh\n"
     ]
    }
   ],
   "source": [
    "# Q3.  Implement a multi-level inheritance scenario where a class Vehicle has an attribute type. Derive a class Car\n",
    "# and further derive a class ElectricCar that adds a battery attribute.\n",
    "# Base class\n",
    "class Vehicle:\n",
    "    def __init__(self, vehicle_type):\n",
    "        self.type = vehicle_type\n",
    "\n",
    "    def display_info(self):\n",
    "        print(f\"Vehicle Type: {self.type}\")\n",
    "\n",
    "# Derived class from Vehicle\n",
    "class Car(Vehicle):\n",
    "    def __init__(self,vehicle_type,brand):\n",
    "        self.brand = brand\n",
    "        super().__init__(vehicle_type)\n",
    "        \n",
    "\n",
    "    def display_info(self):\n",
    "        super().display_info()\n",
    "        print(f\"Brand: {self.brand}\")\n",
    "\n",
    "# Derived class from Car\n",
    "class ElectricCar(Car):\n",
    "    def __init__(self,vehicle_type,brand,battery_capacity):\n",
    "        super().__init__(vehicle_type,brand)\n",
    "        self.battery = battery_capacity\n",
    "\n",
    "    def display_info(self):\n",
    "        super().display_info()\n",
    "        print(f\"Battery Capacity: {self.battery} kWh\")\n",
    "\n",
    "# Example usage\n",
    "e_car = ElectricCar(\"Four Wheeler\",\"Tesla\",75)\n",
    "e_car.display_info()\n",
    "\n",
    "        "
   ]
  },
  {
   "cell_type": "code",
   "execution_count": 80,
   "id": "dca77513",
   "metadata": {},
   "outputs": [
    {
     "name": "stdout",
     "output_type": "stream",
     "text": [
      "Some birds can fly.\n",
      "Sparrow flies high in the sky.\n",
      "Penguins cannot fly, they swim instead.\n"
     ]
    }
   ],
   "source": [
    "#Q4.  Demonstrate polymorphism by creating a base class Bird with a method fly(). Create two derived classes\n",
    "#     Sparrow and Penguin that override the fly() method.\n",
    "# Base class\n",
    "class Bird:\n",
    "    def fly(self):\n",
    "        print(\"Some birds can fly.\")\n",
    "\n",
    "# Derived class Sparrow\n",
    "class Sparrow(Bird):\n",
    "    def fly(self):\n",
    "        print(\"Sparrow flies high in the sky.\")\n",
    "\n",
    "# Derived class Penguin\n",
    "class Penguin(Bird):\n",
    "    def fly(self):\n",
    "        print(\"Penguins cannot fly, they swim instead.\")\n",
    "\n",
    "birds = [Bird(),Sparrow(),Penguin()]\n",
    "for bird in birds:\n",
    "    bird.fly()"
   ]
  },
  {
   "cell_type": "code",
   "execution_count": 81,
   "id": "7e5b9c28",
   "metadata": {},
   "outputs": [
    {
     "name": "stdout",
     "output_type": "stream",
     "text": [
      "Current Balance: ₹1000\n",
      "Deposited: ₹500\n",
      "Current Balance: ₹1500\n",
      "Withdrew: ₹200\n",
      "Current Balance: ₹1300\n"
     ]
    }
   ],
   "source": [
    "#Q5.  Write a program to demonstrate encapsulation by creating a class BankAccount with private attributes\n",
    "#     balance and methods to deposit, withdraw, and check balance.\n",
    "class BankAccount:\n",
    "    def __init__(self, initial_balance=0):\n",
    "        self.__balance = initial_balance  # Private attribute\n",
    "\n",
    "    def deposit(self, amount):\n",
    "        if amount > 0:\n",
    "            self.__balance += amount\n",
    "            print(f\"Deposited: ₹{amount}\")\n",
    "        else:\n",
    "            print(\"Deposit amount must be positive.\")\n",
    "\n",
    "    def withdraw(self, amount):\n",
    "        if amount > self.__balance:\n",
    "            print(\"Insufficient balance.\")\n",
    "        elif amount <= 0:\n",
    "            print(\"Withdrawal amount must be positive.\")\n",
    "        else:\n",
    "            self.__balance -= amount\n",
    "            print(f\"Withdrew: ₹{amount}\")\n",
    "\n",
    "    def check_balance(self):\n",
    "        print(f\"Current Balance: ₹{self.__balance}\")\n",
    "\n",
    "# Example usage\n",
    "account = BankAccount(1000)\n",
    "account.check_balance()\n",
    "\n",
    "account.deposit(500)\n",
    "account.check_balance()\n",
    "\n",
    "account.withdraw(200)\n",
    "account.check_balance()"
   ]
  },
  {
   "cell_type": "code",
   "execution_count": 82,
   "id": "4e825cb1",
   "metadata": {},
   "outputs": [
    {
     "name": "stdout",
     "output_type": "stream",
     "text": [
      "Strumming the guitar strings.\n",
      "Playing the piano keys.\n"
     ]
    }
   ],
   "source": [
    "#Q6.  Demonstrate runtime polymorphism using a method play() in a base class Instrument. Derive classes Guitar\n",
    "#    and Piano that implement their own version of play().\n",
    "# Base class\n",
    "class Instrument:\n",
    "    def play(self):\n",
    "        print(\"An instrument is being played.\")\n",
    "\n",
    "# Derived class: Guitar\n",
    "class Guitar(Instrument):\n",
    "    def play(self):\n",
    "        print(\"Strumming the guitar strings.\")\n",
    "\n",
    "# Derived class: Piano\n",
    "class Piano(Instrument):\n",
    "    def play(self):\n",
    "        print(\"Playing the piano keys.\")\n",
    "\n",
    "# Function to demonstrate runtime polymorphism\n",
    "def perform_play(instrument):\n",
    "    instrument.play()\n",
    "\n",
    "# Example usage\n",
    "i1 = Guitar()\n",
    "i2 = Piano()\n",
    "\n",
    "perform_play(i1) \n",
    "perform_play(i2)  "
   ]
  },
  {
   "cell_type": "code",
   "execution_count": 83,
   "id": "fbef6744",
   "metadata": {},
   "outputs": [
    {
     "name": "stdout",
     "output_type": "stream",
     "text": [
      "Sum: 15\n",
      "Difference: 5\n"
     ]
    }
   ],
   "source": [
    "#Q7. Create a class MathOperations with a class method add_numbers() to add two numbers and a static\n",
    "#   method subtract_numbers() to subtract two numbers.\n",
    "class MathOperations:\n",
    "    @classmethod\n",
    "    def add_numbers(cls, a, b):\n",
    "        return a + b\n",
    "\n",
    "    @staticmethod\n",
    "    def subtract_numbers(a, b):\n",
    "        return a - b\n",
    "\n",
    "# Example usage\n",
    "sum_result = MathOperations.add_numbers(10, 5)\n",
    "print(f\"Sum: {sum_result}\") \n",
    "\n",
    "difference = MathOperations.subtract_numbers(10, 5)\n",
    "print(f\"Difference: {difference}\") \n"
   ]
  },
  {
   "cell_type": "code",
   "execution_count": 86,
   "id": "9cb5752f",
   "metadata": {},
   "outputs": [
    {
     "name": "stdout",
     "output_type": "stream",
     "text": [
      "Total Persons Created: 3\n"
     ]
    }
   ],
   "source": [
    "#Q8.  Implement a class Person with a class method to count the total number of persons created.\n",
    "class Person:\n",
    "    count = 0 \n",
    "\n",
    "    def __init__(self, name):\n",
    "        self.name = name\n",
    "        Person.count += 1 \n",
    "\n",
    "    @classmethod\n",
    "    def total_persons(cls):\n",
    "        return cls.count\n",
    "\n",
    "# Example usage\n",
    "p1 = Person(\"Alice\")\n",
    "p2 = Person(\"Bob\")\n",
    "p3 = Person(\"Charlie\")\n",
    "\n",
    "print(\"Total Persons Created:\", Person.total_persons())"
   ]
  },
  {
   "cell_type": "code",
   "execution_count": 90,
   "id": "33ebc869",
   "metadata": {},
   "outputs": [
    {
     "name": "stdout",
     "output_type": "stream",
     "text": [
      "3/4\n",
      "5/8\n"
     ]
    }
   ],
   "source": [
    "#Q9.  Write a class Fraction with attributes numerator and denominator. Override the str method to display the\n",
    "#      fraction as \"numerator/denominator\".\n",
    "class Fraction:\n",
    "    def __init__(self, numerator, denominator):\n",
    "        self.numerator = numerator\n",
    "        self.denominator = denominator\n",
    "\n",
    "    def __str__(self):\n",
    "        return f\"{self.numerator}/{self.denominator}\"\n",
    "\n",
    "# Example usage\n",
    "f1 = Fraction(3, 4)\n",
    "f2 = Fraction(5, 8)\n",
    " \n",
    "print(str(f1))  \n",
    "print(str(f2)) \n"
   ]
  },
  {
   "cell_type": "code",
   "execution_count": 1,
   "id": "5c6ecb2d",
   "metadata": {},
   "outputs": [
    {
     "name": "stdout",
     "output_type": "stream",
     "text": [
      "Sum of vectors: (6, 8)\n"
     ]
    }
   ],
   "source": [
    "#Q10.  Demonstrate operator overloading by creating a class Vector and overriding the add method to add two vectors.\n",
    "class Vector:\n",
    "    def __init__(self, x, y):\n",
    "        self.x = x\n",
    "        self.y = y\n",
    "\n",
    "    # Overload the + operator\n",
    "    def __add__(self, other):\n",
    "        return Vector(self.x + other.x, self.y + other.y)\n",
    "\n",
    "    def __str__(self):\n",
    "        return f\"({self.x}, {self.y})\"\n",
    "\n",
    "# Example usage\n",
    "v1 = Vector(2, 3)\n",
    "v2 = Vector(4, 5)\n",
    "\n",
    "v3 = v1 + v2  # This calls v1.__add__(v2)\n",
    "print(\"Sum of vectors:\", v3)\n"
   ]
  },
  {
   "cell_type": "code",
   "execution_count": 2,
   "id": "bee7e6e2",
   "metadata": {},
   "outputs": [
    {
     "name": "stdout",
     "output_type": "stream",
     "text": [
      "Hello, my name is Alice and I am 25 years old.\n",
      "Hello, my name is Bob and I am 30 years old.\n"
     ]
    }
   ],
   "source": [
    "#Q11. Create a class Person with attributes name and age. Add a method greet() that prints \"Hello, my name is\n",
    "#     {name} and I am {age} years old.\"\n",
    "class Person:\n",
    "    def __init__(self, name, age):\n",
    "        self.name = name\n",
    "        self.age = age\n",
    "\n",
    "    def greet(self):\n",
    "        print(f\"Hello, my name is {self.name} and I am {self.age} years old.\")\n",
    "\n",
    "# Example usage\n",
    "p1 = Person(\"Alice\", 25)\n",
    "p1.greet()\n",
    "\n",
    "p2 = Person(\"Bob\", 30)\n",
    "p2.greet()\n"
   ]
  },
  {
   "cell_type": "code",
   "execution_count": 3,
   "id": "7f1d97e6",
   "metadata": {},
   "outputs": [
    {
     "name": "stdout",
     "output_type": "stream",
     "text": [
      "Alice's average grade is: 86.25\n",
      "Bob's average grade is: 75.0\n"
     ]
    }
   ],
   "source": [
    "#Q12. Implement a class Student with attributes name and grades. Create a method average_grade() to compute\n",
    "#    the average of the grades.\n",
    "class Student:\n",
    "    def __init__(self, name, grades):\n",
    "        self.name = name\n",
    "        self.grades = grades  # List of grades\n",
    "\n",
    "    def average_grade(self):\n",
    "        if len(self.grades) == 0:\n",
    "            return 0\n",
    "        return sum(self.grades) / len(self.grades)\n",
    "\n",
    "# Example usage\n",
    "s1 = Student(\"Alice\", [85, 90, 78, 92])\n",
    "print(f\"{s1.name}'s average grade is: {s1.average_grade()}\")\n",
    "\n",
    "s2 = Student(\"Bob\", [70, 75, 80])\n",
    "print(f\"{s2.name}'s average grade is: {s2.average_grade()}\")\n"
   ]
  },
  {
   "cell_type": "code",
   "execution_count": 4,
   "id": "a83eb5e2",
   "metadata": {},
   "outputs": [
    {
     "name": "stdout",
     "output_type": "stream",
     "text": [
      "Area of rectangle: 15\n"
     ]
    }
   ],
   "source": [
    "#Q13. Create a class Rectangle with methods set_dimensions() to set the dimensions and area() to calculate the area.\n",
    "class Rectangle:\n",
    "    def __init__(self):\n",
    "        self.length = 0\n",
    "        self.width = 0\n",
    "\n",
    "    def set_dimensions(self, length, width):\n",
    "        self.length = length\n",
    "        self.width = width\n",
    "\n",
    "    def area(self):\n",
    "        return self.length * self.width\n",
    "\n",
    "# Example usage\n",
    "rect = Rectangle()\n",
    "rect.set_dimensions(5, 3)\n",
    "print(\"Area of rectangle:\", rect.area())"
   ]
  },
  {
   "cell_type": "code",
   "execution_count": 5,
   "id": "53516261",
   "metadata": {},
   "outputs": [
    {
     "name": "stdout",
     "output_type": "stream",
     "text": [
      "Alice's Salary: $800\n",
      "Bob's Salary (with bonus): $1700\n"
     ]
    }
   ],
   "source": [
    "#Q14. Create a class Employee with a method calculate_salary() that computes the salary based on hours worked\n",
    "#   and hourly rate. Create a derived class Manager that adds a bonus to the salary.\n",
    "class Employee:\n",
    "    def __init__(self, name, hours_worked, hourly_rate):\n",
    "        self.name = name\n",
    "        self.hours_worked = hours_worked\n",
    "        self.hourly_rate = hourly_rate\n",
    "\n",
    "    def calculate_salary(self):\n",
    "        return self.hours_worked * self.hourly_rate\n",
    "\n",
    "class Manager(Employee):\n",
    "    def __init__(self, name, hours_worked, hourly_rate, bonus):\n",
    "        super().__init__(name, hours_worked, hourly_rate)\n",
    "        self.bonus = bonus\n",
    "\n",
    "    def calculate_salary(self):\n",
    "        base_salary = super().calculate_salary()\n",
    "        return base_salary + self.bonus\n",
    "\n",
    "# Example usage\n",
    "e1 = Employee(\"Alice\", 40, 20)\n",
    "print(f\"{e1.name}'s Salary: ${e1.calculate_salary()}\")\n",
    "\n",
    "m1 = Manager(\"Bob\", 40, 30, 500)\n",
    "print(f\"{m1.name}'s Salary (with bonus): ${m1.calculate_salary()}\")\n"
   ]
  },
  {
   "cell_type": "code",
   "execution_count": 6,
   "id": "c0807e80",
   "metadata": {},
   "outputs": [
    {
     "name": "stdout",
     "output_type": "stream",
     "text": [
      "Total price for Laptops: ₹150000\n",
      "Total price for Headphoness: ₹4500\n"
     ]
    }
   ],
   "source": [
    "#Q15. Create a class Product with attributes name, price, and quantity. Implement a method total_price() that\n",
    "#   calculates the total price of the product.\n",
    "class Product:\n",
    "    def __init__(self, name, price, quantity):\n",
    "        self.name = name\n",
    "        self.price = price\n",
    "        self.quantity = quantity\n",
    "\n",
    "    def total_price(self):\n",
    "        return self.price * self.quantity\n",
    "\n",
    "# Example usage\n",
    "p1 = Product(\"Laptop\", 75000, 2)\n",
    "print(f\"Total price for {p1.name}s: ₹{p1.total_price()}\")\n",
    "\n",
    "p2 = Product(\"Headphones\", 1500, 3)\n",
    "print(f\"Total price for {p2.name}s: ₹{p2.total_price()}\")\n"
   ]
  },
  {
   "cell_type": "code",
   "execution_count": 7,
   "id": "1dcf0c72",
   "metadata": {},
   "outputs": [
    {
     "name": "stdout",
     "output_type": "stream",
     "text": [
      "Cow sound: Moo\n",
      "Sheep sound: Baa\n"
     ]
    }
   ],
   "source": [
    "#Q16. Create a class Animal with an abstract method sound(). Create two derived classes Cow and Sheep that\n",
    "#   implement the sound() method.\n",
    "from abc import ABC, abstractmethod\n",
    "\n",
    "class Animal(ABC):\n",
    "    @abstractmethod\n",
    "    def sound(self):\n",
    "        pass\n",
    "\n",
    "class Cow(Animal):\n",
    "    def sound(self):\n",
    "        return \"Moo\"\n",
    "\n",
    "class Sheep(Animal):\n",
    "    def sound(self):\n",
    "        return \"Baa\"\n",
    "\n",
    "# Example usage\n",
    "c = Cow()\n",
    "s = Sheep()\n",
    "\n",
    "print(\"Cow sound:\", c.sound())\n",
    "print(\"Sheep sound:\", s.sound())\n"
   ]
  },
  {
   "cell_type": "code",
   "execution_count": 8,
   "id": "d131ac55",
   "metadata": {},
   "outputs": [
    {
     "name": "stdout",
     "output_type": "stream",
     "text": [
      "'To Kill a Mockingbird' by Harper Lee (Published in 1960)\n",
      "'1984' by George Orwell (Published in 1949)\n"
     ]
    }
   ],
   "source": [
    "#Q17.  Create a class Book with attributes title, author, and year_published. Add a method get_book_info() that\n",
    "#    returns a formatted string with the book's details.\n",
    "class Book:\n",
    "    def __init__(self, title, author, year_published):\n",
    "        self.title = title\n",
    "        self.author = author\n",
    "        self.year_published = year_published\n",
    "\n",
    "    def get_book_info(self):\n",
    "        return f\"'{self.title}' by {self.author} (Published in {self.year_published})\"\n",
    "\n",
    "# Example usage\n",
    "b1 = Book(\"To Kill a Mockingbird\", \"Harper Lee\", 1960)\n",
    "b2 = Book(\"1984\", \"George Orwell\", 1949)\n",
    "\n",
    "print(b1.get_book_info())\n",
    "print(b2.get_book_info())\n"
   ]
  },
  {
   "cell_type": "code",
   "execution_count": 9,
   "id": "3e297d5f",
   "metadata": {},
   "outputs": [
    {
     "name": "stdout",
     "output_type": "stream",
     "text": [
      "Address: 123 Main Street, Price: ₹5000000\n",
      "Address: 456 Luxury Ave, Price: ₹25000000, Rooms: 10\n"
     ]
    }
   ],
   "source": [
    "#Q18. Create a class House with attributes address and price. Create a derived class Mansion that adds an\n",
    "#     attribute number_of_rooms.\n",
    "class House:\n",
    "    def __init__(self, address, price):\n",
    "        self.address = address\n",
    "        self.price = price\n",
    "\n",
    "    def display_info(self):\n",
    "        return f\"Address: {self.address}, Price: ₹{self.price}\"\n",
    "\n",
    "class Mansion(House):\n",
    "    def __init__(self, address, price, number_of_rooms):\n",
    "        super().__init__(address, price)\n",
    "        self.number_of_rooms = number_of_rooms\n",
    "\n",
    "    def display_info(self):\n",
    "        base_info = super().display_info()\n",
    "        return f\"{base_info}, Rooms: {self.number_of_rooms}\"\n",
    "\n",
    "# Example usage\n",
    "h = House(\"123 Main Street\", 5000000)\n",
    "m = Mansion(\"456 Luxury Ave\", 25000000, 10)\n",
    "\n",
    "print(h.display_info())\n",
    "print(m.display_info())\n"
   ]
  },
  {
   "cell_type": "code",
   "execution_count": null,
   "id": "70480c2a",
   "metadata": {},
   "outputs": [],
   "source": []
  }
 ],
 "metadata": {
  "kernelspec": {
   "display_name": "Python 3 (ipykernel)",
   "language": "python",
   "name": "python3"
  },
  "language_info": {
   "codemirror_mode": {
    "name": "ipython",
    "version": 3
   },
   "file_extension": ".py",
   "mimetype": "text/x-python",
   "name": "python",
   "nbconvert_exporter": "python",
   "pygments_lexer": "ipython3",
   "version": "3.10.9"
  }
 },
 "nbformat": 4,
 "nbformat_minor": 5
}
